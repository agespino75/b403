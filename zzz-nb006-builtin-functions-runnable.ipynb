{
 "cells": [
  {
   "cell_type": "markdown",
   "id": "465c003a-29cf-4cfe-a0c6-d36c04ae2b37",
   "metadata": {},
   "source": [
    "# Main built-in LCEL functions for runnables"
   ]
  },
  {
   "cell_type": "markdown",
   "id": "2d46ff75-72ab-4391-904f-459bae77fc7a",
   "metadata": {},
   "source": [
    "## Contents\n",
    "* .bind()\n",
    "* .assign()"
   ]
  },
  {
   "cell_type": "markdown",
   "id": "be46161e-45e9-46d7-8214-bcbea10aff2e",
   "metadata": {},
   "source": [
    "## Setup"
   ]
  },
  {
   "cell_type": "markdown",
   "id": "871e0018-cba4-4959-881a-0a65093d202d",
   "metadata": {},
   "source": [
    "#### After you download the code from the github repository in your computer\n",
    "In terminal:\n",
    "* cd project_name\n",
    "* pyenv local 3.11.4\n",
    "* poetry install\n",
    "* poetry shell\n",
    "\n",
    "#### To open the notebook with Jupyter Notebooks\n",
    "In terminal:\n",
    "* jupyter lab\n",
    "\n",
    "Go to the folder of notebooks and open the right notebook.\n",
    "\n",
    "#### To see the code in Virtual Studio Code or your editor of choice.\n",
    "* open Virtual Studio Code or your editor of choice.\n",
    "* open the project-folder\n",
    "* open the 006-builtin-functions-for-runnables.py file"
   ]
  },
  {
   "cell_type": "markdown",
   "id": "4e0fa416-0eb3-4ce2-aede-c93a89acd0de",
   "metadata": {},
   "source": [
    "## Create your .env file\n",
    "* In the github repo we have included a file named .env.example\n",
    "* Rename that file to .env file and here is where you will add your confidential api keys. Remember to include:\n",
    "* OPENAI_API_KEY=your_openai_api_key\n",
    "* LANGCHAIN_TRACING_V2=true\n",
    "* LANGCHAIN_ENDPOINT=https://api.smith.langchain.com\n",
    "* LANGCHAIN_API_KEY=your_langchain_api_key\n",
    "* LANGCHAIN_PROJECT=your_project_name"
   ]
  },
  {
   "cell_type": "markdown",
   "id": "863dd299-0780-49ad-a1b7-b76e249350da",
   "metadata": {},
   "source": [
    "We will call our LangSmith project **006-builtin-functions-with-runnables**."
   ]
  },
  {
   "cell_type": "markdown",
   "id": "9f2824df-acba-4fe8-8c41-4440d868c815",
   "metadata": {},
   "source": [
    "## Connect with the .env file located in the same directory of this notebook"
   ]
  },
  {
   "cell_type": "markdown",
   "id": "8b675012-0e92-442f-bc61-970b1a742115",
   "metadata": {},
   "source": [
    "If you are using the pre-loaded poetry shell, you do not need to install the following package because it is already pre-loaded for you:"
   ]
  },
  {
   "cell_type": "code",
   "execution_count": null,
   "id": "b6ca065f-1521-415b-81da-f68eb6cb9c89",
   "metadata": {},
   "outputs": [],
   "source": [
    "#!pip install python-dotenv"
   ]
  },
  {
   "cell_type": "code",
   "id": "fecd39d0-e72e-4bc2-8a68-2fa4008ea365",
   "metadata": {
    "ExecuteTime": {
     "end_time": "2025-06-15T04:59:34.558854Z",
     "start_time": "2025-06-15T04:59:34.549526Z"
    }
   },
   "source": [
    "import os\n",
    "from dotenv import load_dotenv, find_dotenv\n",
    "_ = load_dotenv(find_dotenv())\n",
    "openai_api_key = os.environ[\"OPENAI_API_KEY\"]"
   ],
   "outputs": [],
   "execution_count": 1
  },
  {
   "cell_type": "markdown",
   "id": "03f4a923-b19e-498e-9be5-e47ec4a77d80",
   "metadata": {},
   "source": [
    "#### Install LangChain"
   ]
  },
  {
   "cell_type": "markdown",
   "id": "68972776-72f9-4d4e-95a6-41bc4eb1fc91",
   "metadata": {},
   "source": [
    "If you are using the pre-loaded poetry shell, you do not need to install the following package because it is already pre-loaded for you:"
   ]
  },
  {
   "cell_type": "code",
   "execution_count": 3,
   "id": "c1cf94ae-6c39-4475-9c5b-4b74d8d78753",
   "metadata": {},
   "outputs": [],
   "source": [
    "#!pip install langchain"
   ]
  },
  {
   "cell_type": "markdown",
   "id": "189e9e17-dfb0-4fd3-85b9-1fba83771941",
   "metadata": {},
   "source": [
    "## Connect with an LLM"
   ]
  },
  {
   "cell_type": "markdown",
   "id": "821e48ed-f955-4c89-b735-76c677b86e48",
   "metadata": {},
   "source": [
    "If you are using the pre-loaded poetry shell, you do not need to install the following package because it is already pre-loaded for you:"
   ]
  },
  {
   "cell_type": "code",
   "execution_count": 4,
   "id": "148df8e0-361d-4ddd-8709-af48fa1648d1",
   "metadata": {},
   "outputs": [],
   "source": [
    "#!pip install langchain-openai"
   ]
  },
  {
   "cell_type": "markdown",
   "id": "a1998155-91de-4cbc-bc88-8d77beefb51b",
   "metadata": {},
   "source": [
    "* NOTE: Since right now is the best LLM in the market, we will use OpenAI by default. You will see how to connect with other Open Source LLMs like Llama3 or Mistral in a next lesson."
   ]
  },
  {
   "cell_type": "code",
   "id": "6ae8595e-5c07-4b02-8a79-db55fd357527",
   "metadata": {
    "ExecuteTime": {
     "end_time": "2025-06-15T05:00:06.429039Z",
     "start_time": "2025-06-15T05:00:05.802041Z"
    }
   },
   "source": [
    "from langchain_openai import ChatOpenAI\n",
    "\n",
    "model = ChatOpenAI(model=\"gpt-4o-mini\")"
   ],
   "outputs": [],
   "execution_count": 5
  },
  {
   "cell_type": "markdown",
   "id": "190b5d23-5d09-4c88-b32f-3299795cd91b",
   "metadata": {},
   "source": [
    "## LCEL Chain"
   ]
  },
  {
   "cell_type": "code",
   "id": "b5a34484-0981-4edc-8ba2-7c8521d28c48",
   "metadata": {
    "ExecuteTime": {
     "end_time": "2025-06-15T04:59:41.656554Z",
     "start_time": "2025-06-15T04:59:41.402234Z"
    }
   },
   "source": [
    "from langchain_core.output_parsers import StrOutputParser\n",
    "from langchain_core.prompts import ChatPromptTemplate"
   ],
   "outputs": [],
   "execution_count": 2
  },
  {
   "cell_type": "code",
   "id": "181ba6bd-cf77-43e0-8eb9-0c8e274b3051",
   "metadata": {
    "ExecuteTime": {
     "end_time": "2025-06-15T05:00:39.048827Z",
     "start_time": "2025-06-15T05:00:39.042397Z"
    }
   },
   "source": [
    "prompt = ChatPromptTemplate.from_template(\"tell me a curious fact about {soccer_player}\")\n",
    "\n",
    "output_parser = StrOutputParser()"
   ],
   "outputs": [],
   "execution_count": 6
  },
  {
   "cell_type": "markdown",
   "id": "beb069f5-558d-4494-830d-958aa4f78ef3",
   "metadata": {},
   "source": [
    "* The \"pipe\" operator `|` is the main element of the LCEL chains.\n",
    "* The order (left to right) of the elements in a LCEL chain matters.\n",
    "* An LCEL Chain is a Sequence of Runnables."
   ]
  },
  {
   "cell_type": "code",
   "id": "246e32f8-4380-41d2-b33a-04ff4085569b",
   "metadata": {
    "ExecuteTime": {
     "end_time": "2025-06-15T05:00:59.602079Z",
     "start_time": "2025-06-15T05:00:56.531999Z"
    }
   },
   "source": [
    "chain = prompt | model | output_parser\n",
    "\n",
    "chain.invoke({\"soccer_player\": \"Ronaldo\"})"
   ],
   "outputs": [
    {
     "data": {
      "text/plain": [
       "'A curious fact about Cristiano Ronaldo is that he has a unique way of celebrating his goals by performing a signature jump and spin in the air, often followed by a powerful landing with his arms outstretched. This celebration, known as the \"Sii!\" celebration, has become iconic and is so recognizable that fans around the world often join in by shouting \"Sii!\" as he performs it. Ronaldo\\'s athleticism is also remarkable; he has been recorded to jump higher than a professional basketball player—reaching an impressive height of about 78 centimeters (31 inches) during his jumps!'"
      ]
     },
     "execution_count": 7,
     "metadata": {},
     "output_type": "execute_result"
    }
   ],
   "execution_count": 7
  },
  {
   "cell_type": "markdown",
   "id": "5a1026d5-2e99-4fd4-af2a-ac2c6d2eeeac",
   "metadata": {},
   "source": [
    "* All the components of the chain are Runnables.\n",
    "* When we write chain.invoke() we are using invoke with all the componentes of the chain in an orderly manner:\n",
    "    * First, we apply .invoke() to the prompt.\n",
    "    * Then, with the previous output, we apply .invoke() to the model.\n",
    "    * And finally, with the previous output, we apply .invoke() to the output parser."
   ]
  },
  {
   "cell_type": "markdown",
   "id": "584cbddb-7adc-44c2-847a-bfd6e0907b10",
   "metadata": {},
   "source": [
    "## Use of .bind() to add arguments to a Runnable in a LCEL Chain\n",
    "* For example, we can add an argument to stop the model response when it reaches the word \"Ronaldo\":"
   ]
  },
  {
   "cell_type": "code",
   "id": "fd686bcb-b128-4bdb-b34e-a585c1f2ed8a",
   "metadata": {
    "ExecuteTime": {
     "end_time": "2025-06-15T05:01:51.171094Z",
     "start_time": "2025-06-15T05:01:51.163489Z"
    }
   },
   "source": [
    "chain = prompt | model.bind(stop=[\"Ronaldo\"]) | output_parser"
   ],
   "outputs": [],
   "execution_count": 8
  },
  {
   "cell_type": "code",
   "id": "3f9c195f-2c4e-4b36-ba44-c4b1ec1f7d78",
   "metadata": {
    "ExecuteTime": {
     "end_time": "2025-06-15T05:01:53.565759Z",
     "start_time": "2025-06-15T05:01:52.810230Z"
    }
   },
   "source": [
    "chain.invoke({\"soccer_player\": \"Ronaldo\"})"
   ],
   "outputs": [
    {
     "data": {
      "text/plain": [
       "'One curious fact about Cristiano '"
      ]
     },
     "execution_count": 9,
     "metadata": {},
     "output_type": "execute_result"
    }
   ],
   "execution_count": 9
  },
  {
   "cell_type": "markdown",
   "id": "37a148eb-565d-4dfe-9d3c-062ed2c67468",
   "metadata": {},
   "source": [
    "## Use of .bind() to call an OpenAI Function in a LCEL Chain"
   ]
  },
  {
   "cell_type": "code",
   "id": "56716892-6b51-4f03-949d-c770a6832ba0",
   "metadata": {
    "ExecuteTime": {
     "end_time": "2025-06-15T05:03:59.816518Z",
     "start_time": "2025-06-15T05:03:59.805203Z"
    }
   },
   "source": [
    "functions = [\n",
    "    {\n",
    "      \"name\": \"soccerfacts\",\n",
    "      \"description\": \"Curious facts about a soccer player\",\n",
    "      \"parameters\": {\n",
    "        \"type\": \"object\",\n",
    "        \"properties\": {\n",
    "          \"question\": {\n",
    "            \"type\": \"string\",\n",
    "            \"description\": \"The question for the curious facts about a soccer player\"\n",
    "          },\n",
    "          \"answer\": {\n",
    "            \"type\": \"string\",\n",
    "            \"description\": \"The answer to the question\"\n",
    "          }\n",
    "        },\n",
    "        \"required\": [\"question\", \"answer\"]\n",
    "      }\n",
    "    }\n",
    "  ]"
   ],
   "outputs": [],
   "execution_count": 10
  },
  {
   "cell_type": "code",
   "id": "70e498d3-3cf0-4948-85a3-65ea358015d4",
   "metadata": {
    "ExecuteTime": {
     "end_time": "2025-06-15T05:05:23.290938Z",
     "start_time": "2025-06-15T05:05:23.227803Z"
    }
   },
   "source": [
    "from langchain.output_parsers.openai_functions import JsonOutputFunctionsParser\n",
    "\n",
    "chain = (\n",
    "    prompt\n",
    "    | model.bind(function_call={\"name\": \"soccerfacts\"}, functions= functions)\n",
    "    | JsonOutputFunctionsParser()\n",
    ")"
   ],
   "outputs": [],
   "execution_count": 11
  },
  {
   "cell_type": "code",
   "id": "e60ea942-ce8a-4f9e-99f2-6e5d45ca0edd",
   "metadata": {
    "ExecuteTime": {
     "end_time": "2025-06-15T05:05:28.899418Z",
     "start_time": "2025-06-15T05:05:27.408667Z"
    }
   },
   "source": [
    "chain.invoke(input={\"soccer_player\": \"Mbappe\"})"
   ],
   "outputs": [
    {
     "data": {
      "text/plain": [
       "{'question': 'What is a curious fact about Kylian Mbappe?',\n",
       " 'answer': 'Kylian Mbappe was only 19 years old when he became the youngest French player to score in a World Cup, achieving this feat during the 2018 FIFA World Cup.'}"
      ]
     },
     "execution_count": 12,
     "metadata": {},
     "output_type": "execute_result"
    }
   ],
   "execution_count": 12
  },
  {
   "cell_type": "markdown",
   "id": "61cd1b9b-3b51-4d0a-81f1-75261bb233b6",
   "metadata": {},
   "source": [
    "**Note:** OpenAI API has deprecated functions in favor of tools. See [here](https://python.langchain.com/v0.1/docs/modules/agents/agent_types/openai_functions_agent/) for more info."
   ]
  },
  {
   "cell_type": "markdown",
   "id": "3142d874-21af-4aa0-a0b7-067a8cb75838",
   "metadata": {},
   "source": [
    "## Use of .bind() to attach OpenAI tools"
   ]
  },
  {
   "cell_type": "markdown",
   "id": "a4f0d59a-f68a-43f9-b463-a06915fa808b",
   "metadata": {},
   "source": [
    "**Note:** In the OpenAI Chat API, functions are now considered a legacy options that is deprecated in favor of tools. If you're creating agents using OpenAI LLM models, you should be using OpenAI Tools rather than OpenAI functions."
   ]
  },
  {
   "cell_type": "markdown",
   "id": "fa7c7d35-02e0-4924-b21b-1f9e4eafb40b",
   "metadata": {},
   "source": [
    "While you should generally use the .bind_tools() method for tool-calling models, you can also bind provider-specific args directly if you want lower level control:"
   ]
  },
  {
   "cell_type": "code",
   "id": "edbb2252-cc4c-48d2-9fe4-d612b74df56d",
   "metadata": {
    "ExecuteTime": {
     "end_time": "2025-06-15T05:07:25.886182Z",
     "start_time": "2025-06-15T05:07:25.879855Z"
    }
   },
   "source": [
    "tools = [\n",
    "    {\n",
    "        \"type\": \"function\",\n",
    "        \"function\": {\n",
    "            \"name\": \"get_current_weather\",\n",
    "            \"description\": \"Get the current weather in a given location\",\n",
    "            \"parameters\": {\n",
    "                \"type\": \"object\",\n",
    "                \"properties\": {\n",
    "                    \"location\": {\n",
    "                        \"type\": \"string\",\n",
    "                        \"description\": \"The city and state, e.g. San Francisco, CA\",\n",
    "                    },\n",
    "                    \"unit\": {\"type\": \"string\", \"enum\": [\"celsius\", \"fahrenheit\"]},\n",
    "                },\n",
    "                \"required\": [\"location\"],\n",
    "            },\n",
    "        },\n",
    "    }\n",
    "]"
   ],
   "outputs": [],
   "execution_count": 13
  },
  {
   "cell_type": "code",
   "id": "8d96079d-0597-4082-9d3a-af7c8a36f6c8",
   "metadata": {
    "ExecuteTime": {
     "end_time": "2025-06-15T05:16:31.960062Z",
     "start_time": "2025-06-15T05:16:30.482391Z"
    }
   },
   "source": [
    "model = ChatOpenAI(model=\"gpt-4o-mini\").bind(tools=tools)\n",
    "model.invoke(\"What's the weather in SF, NYC and LA?\")"
   ],
   "outputs": [
    {
     "data": {
      "text/plain": [
       "AIMessage(content='', additional_kwargs={'tool_calls': [{'id': 'call_Qp0tVaC2lQyCta4MF81vNEdg', 'function': {'arguments': '{\"location\": \"San Francisco, CA\"}', 'name': 'get_current_weather'}, 'type': 'function'}, {'id': 'call_MvSRbV3KLLHbCN2lCWTJwsWQ', 'function': {'arguments': '{\"location\": \"New York City, NY\"}', 'name': 'get_current_weather'}, 'type': 'function'}, {'id': 'call_exSnYNeEOcLv0PpMvffOBqCu', 'function': {'arguments': '{\"location\": \"Los Angeles, CA\"}', 'name': 'get_current_weather'}, 'type': 'function'}], 'refusal': None}, response_metadata={'token_usage': {'completion_tokens': 71, 'prompt_tokens': 82, 'total_tokens': 153, 'completion_tokens_details': {'accepted_prediction_tokens': 0, 'audio_tokens': 0, 'reasoning_tokens': 0, 'rejected_prediction_tokens': 0}, 'prompt_tokens_details': {'audio_tokens': 0, 'cached_tokens': 0}}, 'model_name': 'gpt-4o-mini-2024-07-18', 'system_fingerprint': 'fp_34a54ae93c', 'id': 'chatcmpl-Bia1GXdabzdsBJT8GnGPjrksMjiD4', 'service_tier': 'default', 'finish_reason': 'tool_calls', 'logprobs': None}, id='run--075ea022-9898-45fd-951b-55d2dd3b5373-0', tool_calls=[{'name': 'get_current_weather', 'args': {'location': 'San Francisco, CA'}, 'id': 'call_Qp0tVaC2lQyCta4MF81vNEdg', 'type': 'tool_call'}, {'name': 'get_current_weather', 'args': {'location': 'New York City, NY'}, 'id': 'call_MvSRbV3KLLHbCN2lCWTJwsWQ', 'type': 'tool_call'}, {'name': 'get_current_weather', 'args': {'location': 'Los Angeles, CA'}, 'id': 'call_exSnYNeEOcLv0PpMvffOBqCu', 'type': 'tool_call'}], usage_metadata={'input_tokens': 82, 'output_tokens': 71, 'total_tokens': 153, 'input_token_details': {'audio': 0, 'cache_read': 0}, 'output_token_details': {'audio': 0, 'reasoning': 0}})"
      ]
     },
     "execution_count": 23,
     "metadata": {},
     "output_type": "execute_result"
    }
   ],
   "execution_count": 23
  },
  {
   "cell_type": "markdown",
   "id": "7e6cb212-3a91-479a-829e-c17d12d76e85",
   "metadata": {},
   "source": [
    "## The assign() function allows adding keys to a chain\n",
    "* Example: we will create a key name \"operation_b\" assigned to a custom function with a RunnableLambda.\n",
    "* We will start with a very basic chain with just RunnablePassthrough:"
   ]
  },
  {
   "cell_type": "code",
   "id": "b7335550-2628-468a-b687-d9aa96294d46",
   "metadata": {
    "ExecuteTime": {
     "end_time": "2025-06-15T05:17:30.039996Z",
     "start_time": "2025-06-15T05:17:30.026367Z"
    }
   },
   "source": [
    "from langchain_core.runnables import RunnableParallel, RunnablePassthrough, RunnableLambda\n",
    "\n",
    "chain = RunnableParallel({\"original_input\": RunnablePassthrough()})"
   ],
   "outputs": [],
   "execution_count": 24
  },
  {
   "cell_type": "code",
   "id": "1ff74a9e-ef49-4a98-b5a9-3da5b5c21d96",
   "metadata": {
    "ExecuteTime": {
     "end_time": "2025-06-15T05:17:50.928873Z",
     "start_time": "2025-06-15T05:17:50.914730Z"
    }
   },
   "source": [
    "chain.invoke(\"whatever\")"
   ],
   "outputs": [
    {
     "data": {
      "text/plain": [
       "{'original_input': 'whatever'}"
      ]
     },
     "execution_count": 25,
     "metadata": {},
     "output_type": "execute_result"
    }
   ],
   "execution_count": 25
  },
  {
   "cell_type": "markdown",
   "id": "99966bbe-f9fe-4ede-b8f1-ae7d5c529c1e",
   "metadata": {},
   "source": [
    "* As you can see, right now this chain is only assigning the user input to the \"original_input\" variable.\n",
    "* Let's now add the new key \"uppercase\" with the assign function.\n",
    "* In the new \"uppercase\" key, we will use a RunnableLambda with the custom function named `make_uppercase`"
   ]
  },
  {
   "cell_type": "code",
   "id": "5498c91c-548f-4bb3-acca-90927ab5d4be",
   "metadata": {
    "ExecuteTime": {
     "end_time": "2025-06-15T05:18:56.183267Z",
     "start_time": "2025-06-15T05:18:56.153838Z"
    }
   },
   "source": [
    "def make_uppercase(arg):\n",
    "    return arg[\"original_input\"].upper()"
   ],
   "outputs": [],
   "execution_count": 26
  },
  {
   "cell_type": "code",
   "id": "7a69f270-a09d-48ea-8787-c313d1f88e85",
   "metadata": {
    "ExecuteTime": {
     "end_time": "2025-06-15T05:19:02.510042Z",
     "start_time": "2025-06-15T05:19:02.500269Z"
    }
   },
   "source": [
    "chain = RunnableParallel({\"original_input\": RunnablePassthrough()}).assign(uppercase=RunnableLambda(make_uppercase))"
   ],
   "outputs": [],
   "execution_count": 27
  },
  {
   "cell_type": "code",
   "id": "99e646ef-8e1f-450f-b5cd-395affae83b0",
   "metadata": {
    "ExecuteTime": {
     "end_time": "2025-06-15T05:19:17.973278Z",
     "start_time": "2025-06-15T05:19:17.959488Z"
    }
   },
   "source": [
    "chain.invoke(\"whatever\")"
   ],
   "outputs": [
    {
     "data": {
      "text/plain": [
       "{'original_input': 'whatever', 'uppercase': 'WHATEVER'}"
      ]
     },
     "execution_count": 28,
     "metadata": {},
     "output_type": "execute_result"
    }
   ],
   "execution_count": 28
  },
  {
   "cell_type": "markdown",
   "id": "c1622bcb-0bd3-4e19-bb26-cdcd5b27eabc",
   "metadata": {},
   "source": [
    "* As you can see, the output of the chain has now 2 keys: original_input and uppercase.\n",
    "* In the uppercase key, we can see that the `make_uppercase` function has been applied to the user input."
   ]
  },
  {
   "cell_type": "markdown",
   "id": "7536ba98-c266-476f-af8e-6dac2fb0d2dc",
   "metadata": {},
   "source": [
    "## How to execute the code from Visual Studio Code\n",
    "* In Visual Studio Code, see the file 006-builtin-functions-for-runnables.py\n",
    "* In terminal, make sure you are in the directory of the file and run:\n",
    "    * python 006-builtin-functions-for-runnables.py"
   ]
  },
  {
   "cell_type": "code",
   "execution_count": null,
   "id": "6334a856-c50b-46c4-83e6-12f7f5c1bb9e",
   "metadata": {},
   "outputs": [],
   "source": []
  }
 ],
 "metadata": {
  "kernelspec": {
   "display_name": "Python 3 (ipykernel)",
   "language": "python",
   "name": "python3"
  },
  "language_info": {
   "codemirror_mode": {
    "name": "ipython",
    "version": 3
   },
   "file_extension": ".py",
   "mimetype": "text/x-python",
   "name": "python",
   "nbconvert_exporter": "python",
   "pygments_lexer": "ipython3",
   "version": "3.11.4"
  }
 },
 "nbformat": 4,
 "nbformat_minor": 5
}
